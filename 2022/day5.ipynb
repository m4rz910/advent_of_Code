{
 "cells": [
  {
   "cell_type": "code",
   "execution_count": 89,
   "metadata": {},
   "outputs": [],
   "source": [
    "import pandas as pd"
   ]
  },
  {
   "cell_type": "code",
   "execution_count": 97,
   "metadata": {},
   "outputs": [
    {
     "data": {
      "text/plain": [
       "{1: ['V', 'J', 'B', 'D'],\n",
       " 2: ['F', 'D', 'R', 'W', 'B', 'V', 'P'],\n",
       " 3: ['Q', 'W', 'C', 'D', 'L', 'F', 'G', 'R'],\n",
       " 4: ['B', 'D', 'N', 'L', 'M', 'P', 'J', 'W'],\n",
       " 5: ['Q', 'S', 'C', 'P', 'B', 'N', 'H'],\n",
       " 6: ['G', 'N', 'S', 'B', 'D', 'R'],\n",
       " 7: ['H', 'S', 'F', 'Q', 'M', 'P', 'B', 'Z'],\n",
       " 8: ['F', 'L', 'W'],\n",
       " 9: ['R', 'M', 'F', 'V', 'S']}"
      ]
     },
     "execution_count": 97,
     "metadata": {},
     "output_type": "execute_result"
    }
   ],
   "source": [
    "def get_initial_stack():\n",
    "    inital_crates = pd.read_csv('data/day5.csv',header=None,nrows=8)\n",
    "\n",
    "    inital_stack = {}\n",
    "    for i,j in enumerate(range(1,len(inital_crates[0][0]),4)):\n",
    "        for a in inital_crates[0]:\n",
    "            if a[j] == ' ':\n",
    "                continue\n",
    "            \n",
    "            try:\n",
    "                inital_stack[i+1].append(a[j])\n",
    "            except:\n",
    "                inital_stack[i+1] = []\n",
    "                inital_stack[i+1].append(a[j])\n",
    "    return inital_stack\n",
    "inital_stack = get_initial_stack()\n",
    "inital_stack"
   ]
  },
  {
   "attachments": {},
   "cell_type": "markdown",
   "metadata": {},
   "source": [
    "# part 1"
   ]
  },
  {
   "cell_type": "code",
   "execution_count": 92,
   "metadata": {},
   "outputs": [
    {
     "data": {
      "text/html": [
       "<div>\n",
       "<style scoped>\n",
       "    .dataframe tbody tr th:only-of-type {\n",
       "        vertical-align: middle;\n",
       "    }\n",
       "\n",
       "    .dataframe tbody tr th {\n",
       "        vertical-align: top;\n",
       "    }\n",
       "\n",
       "    .dataframe thead th {\n",
       "        text-align: right;\n",
       "    }\n",
       "</style>\n",
       "<table border=\"1\" class=\"dataframe\">\n",
       "  <thead>\n",
       "    <tr style=\"text-align: right;\">\n",
       "      <th></th>\n",
       "      <th>0</th>\n",
       "      <th>number</th>\n",
       "      <th>from</th>\n",
       "      <th>to</th>\n",
       "    </tr>\n",
       "  </thead>\n",
       "  <tbody>\n",
       "    <tr>\n",
       "      <th>0</th>\n",
       "      <td>move 1 from 4 to 1</td>\n",
       "      <td>1</td>\n",
       "      <td>4</td>\n",
       "      <td>1</td>\n",
       "    </tr>\n",
       "    <tr>\n",
       "      <th>1</th>\n",
       "      <td>move 2 from 4 to 8</td>\n",
       "      <td>2</td>\n",
       "      <td>4</td>\n",
       "      <td>8</td>\n",
       "    </tr>\n",
       "    <tr>\n",
       "      <th>2</th>\n",
       "      <td>move 5 from 9 to 6</td>\n",
       "      <td>5</td>\n",
       "      <td>9</td>\n",
       "      <td>6</td>\n",
       "    </tr>\n",
       "    <tr>\n",
       "      <th>3</th>\n",
       "      <td>move 1 from 1 to 3</td>\n",
       "      <td>1</td>\n",
       "      <td>1</td>\n",
       "      <td>3</td>\n",
       "    </tr>\n",
       "    <tr>\n",
       "      <th>4</th>\n",
       "      <td>move 5 from 8 to 3</td>\n",
       "      <td>5</td>\n",
       "      <td>8</td>\n",
       "      <td>3</td>\n",
       "    </tr>\n",
       "    <tr>\n",
       "      <th>...</th>\n",
       "      <td>...</td>\n",
       "      <td>...</td>\n",
       "      <td>...</td>\n",
       "      <td>...</td>\n",
       "    </tr>\n",
       "    <tr>\n",
       "      <th>497</th>\n",
       "      <td>move 1 from 8 to 4</td>\n",
       "      <td>1</td>\n",
       "      <td>8</td>\n",
       "      <td>4</td>\n",
       "    </tr>\n",
       "    <tr>\n",
       "      <th>498</th>\n",
       "      <td>move 2 from 5 to 7</td>\n",
       "      <td>2</td>\n",
       "      <td>5</td>\n",
       "      <td>7</td>\n",
       "    </tr>\n",
       "    <tr>\n",
       "      <th>499</th>\n",
       "      <td>move 1 from 2 to 4</td>\n",
       "      <td>1</td>\n",
       "      <td>2</td>\n",
       "      <td>4</td>\n",
       "    </tr>\n",
       "    <tr>\n",
       "      <th>500</th>\n",
       "      <td>move 5 from 6 to 1</td>\n",
       "      <td>5</td>\n",
       "      <td>6</td>\n",
       "      <td>1</td>\n",
       "    </tr>\n",
       "    <tr>\n",
       "      <th>501</th>\n",
       "      <td>move 4 from 3 to 2</td>\n",
       "      <td>4</td>\n",
       "      <td>3</td>\n",
       "      <td>2</td>\n",
       "    </tr>\n",
       "  </tbody>\n",
       "</table>\n",
       "<p>502 rows × 4 columns</p>\n",
       "</div>"
      ],
      "text/plain": [
       "                      0  number  from  to\n",
       "0    move 1 from 4 to 1       1     4   1\n",
       "1    move 2 from 4 to 8       2     4   8\n",
       "2    move 5 from 9 to 6       5     9   6\n",
       "3    move 1 from 1 to 3       1     1   3\n",
       "4    move 5 from 8 to 3       5     8   3\n",
       "..                  ...     ...   ...  ..\n",
       "497  move 1 from 8 to 4       1     8   4\n",
       "498  move 2 from 5 to 7       2     5   7\n",
       "499  move 1 from 2 to 4       1     2   4\n",
       "500  move 5 from 6 to 1       5     6   1\n",
       "501  move 4 from 3 to 2       4     3   2\n",
       "\n",
       "[502 rows x 4 columns]"
      ]
     },
     "execution_count": 92,
     "metadata": {},
     "output_type": "execute_result"
    }
   ],
   "source": [
    "df = pd.read_csv('data/day5.csv',header=None,skiprows=9)\n",
    "df['number'] = df.apply(lambda s: int(s[0].split(\" \")[1]),axis='columns')\n",
    "df['from'] = df.apply(lambda s: int(s[0].split(\" \")[3]),axis='columns')\n",
    "df['to'] = df.apply(lambda s: int(s[0].split(\" \")[5]),axis='columns')\n",
    "df"
   ]
  },
  {
   "cell_type": "code",
   "execution_count": 93,
   "metadata": {},
   "outputs": [
    {
     "data": {
      "text/plain": [
       "{1: ['B', 'G', 'B', 'N', 'F'],\n",
       " 2: ['S', 'G', 'S', 'B'],\n",
       " 3: ['D', 'R', 'W', 'Z', 'D', 'B', 'M', 'V'],\n",
       " 4: ['M', 'W', 'R'],\n",
       " 5: ['Q', 'W', 'V', 'P', 'F'],\n",
       " 6: ['F',\n",
       "  'F',\n",
       "  'C',\n",
       "  'D',\n",
       "  'N',\n",
       "  'D',\n",
       "  'V',\n",
       "  'J',\n",
       "  'P',\n",
       "  'S',\n",
       "  'F',\n",
       "  'P',\n",
       "  'D',\n",
       "  'R',\n",
       "  'L',\n",
       "  'J',\n",
       "  'H'],\n",
       " 7: ['L', 'N'],\n",
       " 8: ['S'],\n",
       " 9: ['P', 'Q', 'M', 'Q', 'B', 'L', 'W', 'H', 'R', 'C', 'B']}"
      ]
     },
     "execution_count": 93,
     "metadata": {},
     "output_type": "execute_result"
    }
   ],
   "source": [
    "for index,s in df.iterrows():\n",
    "    for i in range(0,s['number']):\n",
    "        popped_val =  inital_stack[s['from']].pop(0) # pop(0) removes first value from the list\n",
    "        inital_stack[s['to']].insert(0, popped_val) #insert appends the value to the beginning of the list (top of the inital_stack)\n",
    "inital_stack"
   ]
  },
  {
   "cell_type": "code",
   "execution_count": 94,
   "metadata": {},
   "outputs": [
    {
     "data": {
      "text/plain": [
       "'BSDMQFLSP'"
      ]
     },
     "execution_count": 94,
     "metadata": {},
     "output_type": "execute_result"
    }
   ],
   "source": [
    "\"\".join([inital_stack[0] for i,inital_stack in inital_stack.items()])"
   ]
  },
  {
   "attachments": {},
   "cell_type": "markdown",
   "metadata": {},
   "source": [
    "# part 2"
   ]
  },
  {
   "cell_type": "code",
   "execution_count": 100,
   "metadata": {},
   "outputs": [
    {
     "data": {
      "text/plain": [
       "'PGSQBFLDP'"
      ]
     },
     "execution_count": 100,
     "metadata": {},
     "output_type": "execute_result"
    }
   ],
   "source": [
    "inital_stack = get_initial_stack() # reset stack\n",
    "\n",
    "for index,s in df.iterrows():\n",
    "    popped_vals = []\n",
    "    for i in range(0,s['number']):\n",
    "        popped_vals.append(inital_stack[s['from']].pop(0)) # pop(0) removes first value from the list\n",
    "    inital_stack[s['to']] = popped_vals + inital_stack[s['to']]#insert popped vals to the begining of list\n",
    "\n",
    "inital_stack\n",
    "\"\".join([inital_stack[0] for i,inital_stack in inital_stack.items()])"
   ]
  }
 ],
 "metadata": {
  "kernelspec": {
   "display_name": "e3der",
   "language": "python",
   "name": "python3"
  },
  "language_info": {
   "codemirror_mode": {
    "name": "ipython",
    "version": 3
   },
   "file_extension": ".py",
   "mimetype": "text/x-python",
   "name": "python",
   "nbconvert_exporter": "python",
   "pygments_lexer": "ipython3",
   "version": "3.9.12"
  },
  "orig_nbformat": 4,
  "vscode": {
   "interpreter": {
    "hash": "738f2a85730a902bfe55695372c3ba0ddfd77bee9ffdfbed4f77ee2e4ae5bd7f"
   }
  }
 },
 "nbformat": 4,
 "nbformat_minor": 2
}
